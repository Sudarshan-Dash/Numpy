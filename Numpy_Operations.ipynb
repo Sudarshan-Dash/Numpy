{
 "cells": [
  {
   "cell_type": "code",
   "execution_count": 1,
   "id": "2377b6c1",
   "metadata": {},
   "outputs": [],
   "source": [
    "import numpy as np"
   ]
  },
  {
   "cell_type": "code",
   "execution_count": 2,
   "id": "5843e4fd",
   "metadata": {},
   "outputs": [],
   "source": [
    "account_transactions = np.array([100,-200,300,-400,100,100,-230,450,500,2000])"
   ]
  },
  {
   "cell_type": "code",
   "execution_count": 4,
   "id": "1c12c9fb",
   "metadata": {},
   "outputs": [
    {
     "data": {
      "text/plain": [
       "2000"
      ]
     },
     "execution_count": 4,
     "metadata": {},
     "output_type": "execute_result"
    }
   ],
   "source": [
    "account_transactions.max()"
   ]
  },
  {
   "cell_type": "code",
   "execution_count": 5,
   "id": "e5893022",
   "metadata": {},
   "outputs": [
    {
     "data": {
      "text/plain": [
       "-400"
      ]
     },
     "execution_count": 5,
     "metadata": {},
     "output_type": "execute_result"
    }
   ],
   "source": [
    "account_transactions.min()"
   ]
  },
  {
   "cell_type": "code",
   "execution_count": 8,
   "id": "eb7cb304",
   "metadata": {},
   "outputs": [
    {
     "data": {
      "text/plain": [
       "array([0, 1, 2, 3, 4, 5, 6, 7, 8, 9])"
      ]
     },
     "execution_count": 8,
     "metadata": {},
     "output_type": "execute_result"
    }
   ],
   "source": [
    "np.arange(0,10)"
   ]
  },
  {
   "cell_type": "code",
   "execution_count": 11,
   "id": "e2db9c94",
   "metadata": {},
   "outputs": [
    {
     "data": {
      "text/plain": [
       "array([ 105, -195,  305, -395,  105,  105, -225,  455,  505, 2005])"
      ]
     },
     "execution_count": 11,
     "metadata": {},
     "output_type": "execute_result"
    }
   ],
   "source": [
    "account_transactions+5"
   ]
  },
  {
   "cell_type": "code",
   "execution_count": 12,
   "id": "1537cf2b",
   "metadata": {},
   "outputs": [
    {
     "data": {
      "text/plain": [
       "array([   0, -300,  200, -500,    0,    0, -330,  350,  400, 1900])"
      ]
     },
     "execution_count": 12,
     "metadata": {},
     "output_type": "execute_result"
    }
   ],
   "source": [
    "account_transactions-100"
   ]
  },
  {
   "cell_type": "code",
   "execution_count": 13,
   "id": "7570d517",
   "metadata": {},
   "outputs": [
    {
     "data": {
      "text/plain": [
       "array([0, 0, 0, 0, 0, 0, 0, 0, 0, 0])"
      ]
     },
     "execution_count": 13,
     "metadata": {},
     "output_type": "execute_result"
    }
   ],
   "source": [
    "account_transactions-account_transactions"
   ]
  },
  {
   "cell_type": "code",
   "execution_count": 14,
   "id": "678f518b",
   "metadata": {},
   "outputs": [
    {
     "data": {
      "text/plain": [
       "array([ 200, -400,  600, -800,  200,  200, -460,  900, 1000, 4000])"
      ]
     },
     "execution_count": 14,
     "metadata": {},
     "output_type": "execute_result"
    }
   ],
   "source": [
    "account_transactions+account_transactions"
   ]
  },
  {
   "cell_type": "code",
   "execution_count": 15,
   "id": "1e75dd18",
   "metadata": {},
   "outputs": [
    {
     "data": {
      "text/plain": [
       "array([  10000,   40000,   90000,  160000,   10000,   10000,   52900,\n",
       "        202500,  250000, 4000000])"
      ]
     },
     "execution_count": 15,
     "metadata": {},
     "output_type": "execute_result"
    }
   ],
   "source": [
    "account_transactions*account_transactions"
   ]
  },
  {
   "cell_type": "code",
   "execution_count": 21,
   "id": "c9d0c4ae",
   "metadata": {},
   "outputs": [
    {
     "name": "stderr",
     "output_type": "stream",
     "text": [
      "C:\\Users\\Admin\\AppData\\Local\\Temp\\ipykernel_12164\\1560001031.py:1: RuntimeWarning: invalid value encountered in sqrt\n",
      "  np.sqrt(account_transactions)\n"
     ]
    },
    {
     "data": {
      "text/plain": [
       "array([10.        ,         nan, 17.32050808,         nan, 10.        ,\n",
       "       10.        ,         nan, 21.21320344, 22.36067977, 44.72135955])"
      ]
     },
     "execution_count": 21,
     "metadata": {},
     "output_type": "execute_result"
    }
   ],
   "source": [
    "np.sqrt(account_transactions)"
   ]
  },
  {
   "cell_type": "code",
   "execution_count": 22,
   "id": "d7c4f077",
   "metadata": {},
   "outputs": [
    {
     "data": {
      "text/plain": [
       "array([-0.50636564,  0.8732973 , -0.99975584,  0.85091936, -0.50636564,\n",
       "       -0.50636564,  0.6160642 , -0.68328373, -0.46777181,  0.9300395 ])"
      ]
     },
     "execution_count": 22,
     "metadata": {},
     "output_type": "execute_result"
    }
   ],
   "source": [
    "np.sin(account_transactions)"
   ]
  },
  {
   "cell_type": "code",
   "execution_count": 23,
   "id": "eefb7d5a",
   "metadata": {},
   "outputs": [
    {
     "name": "stderr",
     "output_type": "stream",
     "text": [
      "C:\\Users\\Admin\\AppData\\Local\\Temp\\ipykernel_12164\\453755614.py:1: RuntimeWarning: invalid value encountered in log\n",
      "  np.log(account_transactions)\n"
     ]
    },
    {
     "data": {
      "text/plain": [
       "array([4.60517019,        nan, 5.70378247,        nan, 4.60517019,\n",
       "       4.60517019,        nan, 6.10924758, 6.2146081 , 7.60090246])"
      ]
     },
     "execution_count": 23,
     "metadata": {},
     "output_type": "execute_result"
    }
   ],
   "source": [
    "np.log(account_transactions)"
   ]
  },
  {
   "cell_type": "code",
   "execution_count": 28,
   "id": "62d0900f",
   "metadata": {},
   "outputs": [
    {
     "data": {
      "text/plain": [
       "408556.0"
      ]
     },
     "execution_count": 28,
     "metadata": {},
     "output_type": "execute_result"
    }
   ],
   "source": [
    "account_transactions.var()    ##variance "
   ]
  },
  {
   "cell_type": "code",
   "execution_count": 30,
   "id": "f3bc0002",
   "metadata": {},
   "outputs": [
    {
     "data": {
      "text/plain": [
       "639.1838546146171"
      ]
     },
     "execution_count": 30,
     "metadata": {},
     "output_type": "execute_result"
    }
   ],
   "source": [
    "account_transactions.std()    ##standard deviation"
   ]
  },
  {
   "cell_type": "code",
   "execution_count": 31,
   "id": "1665d245",
   "metadata": {},
   "outputs": [
    {
     "data": {
      "text/plain": [
       "array([ 0,  1,  2,  3,  4,  5,  6,  7,  8,  9, 10, 11, 12, 13, 14, 15, 16,\n",
       "       17, 18, 19, 20, 21, 22, 23, 24])"
      ]
     },
     "execution_count": 31,
     "metadata": {},
     "output_type": "execute_result"
    }
   ],
   "source": [
    "np.arange(0,25)"
   ]
  },
  {
   "cell_type": "code",
   "execution_count": 32,
   "id": "fa7dba0b",
   "metadata": {},
   "outputs": [
    {
     "data": {
      "text/plain": [
       "array([[ 0,  1,  2,  3,  4],\n",
       "       [ 5,  6,  7,  8,  9],\n",
       "       [10, 11, 12, 13, 14],\n",
       "       [15, 16, 17, 18, 19],\n",
       "       [20, 21, 22, 23, 24]])"
      ]
     },
     "execution_count": 32,
     "metadata": {},
     "output_type": "execute_result"
    }
   ],
   "source": [
    "np.arange(0,25).reshape(5,5)   ##creating 2D arrays "
   ]
  },
  {
   "cell_type": "code",
   "execution_count": 35,
   "id": "0f24ee7b",
   "metadata": {},
   "outputs": [
    {
     "ename": "NameError",
     "evalue": "name 'arr2d' is not defined",
     "output_type": "error",
     "traceback": [
      "\u001b[1;31m---------------------------------------------------------------------------\u001b[0m",
      "\u001b[1;31mNameError\u001b[0m                                 Traceback (most recent call last)",
      "Cell \u001b[1;32mIn [35], line 1\u001b[0m\n\u001b[1;32m----> 1\u001b[0m \u001b[43marr2d\u001b[49m\u001b[38;5;241m.\u001b[39msum(axis\u001b[38;5;241m=\u001b[39m\u001b[38;5;241m0\u001b[39m)\n",
      "\u001b[1;31mNameError\u001b[0m: name 'arr2d' is not defined"
     ]
    }
   ],
   "source": []
  },
  {
   "cell_type": "code",
   "execution_count": null,
   "id": "fa6aa332",
   "metadata": {},
   "outputs": [],
   "source": []
  }
 ],
 "metadata": {
  "kernelspec": {
   "display_name": "Python 3 (ipykernel)",
   "language": "python",
   "name": "python3"
  },
  "language_info": {
   "codemirror_mode": {
    "name": "ipython",
    "version": 3
   },
   "file_extension": ".py",
   "mimetype": "text/x-python",
   "name": "python",
   "nbconvert_exporter": "python",
   "pygments_lexer": "ipython3",
   "version": "3.10.4"
  }
 },
 "nbformat": 4,
 "nbformat_minor": 5
}
